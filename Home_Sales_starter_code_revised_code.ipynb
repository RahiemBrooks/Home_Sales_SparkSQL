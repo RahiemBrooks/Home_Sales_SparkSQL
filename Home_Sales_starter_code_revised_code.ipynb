{
  "cells": [
    {
      "cell_type": "code",
      "source": [
        "!pip install findspark"
      ],
      "metadata": {
        "colab": {
          "base_uri": "https://localhost:8080/"
        },
        "id": "pehL1eS8Mlty",
        "outputId": "9f2efff0-33ec-431f-e0f1-85e2be83cd8d"
      },
      "execution_count": 3,
      "outputs": [
        {
          "output_type": "stream",
          "name": "stdout",
          "text": [
            "Collecting findspark\n",
            "  Downloading findspark-2.0.1-py2.py3-none-any.whl (4.4 kB)\n",
            "Installing collected packages: findspark\n",
            "Successfully installed findspark-2.0.1\n"
          ]
        }
      ]
    },
    {
      "cell_type": "code",
      "source": [
        "!pip install pyspark"
      ],
      "metadata": {
        "colab": {
          "base_uri": "https://localhost:8080/"
        },
        "id": "8rHRCOSax8tV",
        "outputId": "5cc97597-673e-43f4-fc7b-92587812cc24"
      },
      "execution_count": 4,
      "outputs": [
        {
          "output_type": "stream",
          "name": "stdout",
          "text": [
            "Requirement already satisfied: pyspark in /usr/local/lib/python3.10/dist-packages (3.5.0)\n",
            "Requirement already satisfied: py4j==0.10.9.7 in /usr/local/lib/python3.10/dist-packages (from pyspark) (0.10.9.7)\n"
          ]
        }
      ]
    },
    {
      "cell_type": "code",
      "execution_count": 5,
      "metadata": {
        "id": "a_KW73O2e3dw"
      },
      "outputs": [],
      "source": [
        "# Import findspark and initialize.\n",
        "import findspark\n",
        "findspark.init()"
      ]
    },
    {
      "cell_type": "code",
      "execution_count": 6,
      "metadata": {
        "id": "2XbWNf1Te5fM"
      },
      "outputs": [],
      "source": [
        "# Import packages\n",
        "from pyspark.sql import SparkSession\n",
        "import time\n",
        "\n",
        "# Create a SparkSession\n",
        "spark = SparkSession.builder.appName(\"SparkSQL\").getOrCreate()"
      ]
    },
    {
      "cell_type": "code",
      "execution_count": 7,
      "metadata": {
        "id": "wOJqxG_RPSwp"
      },
      "outputs": [],
      "source": [
        "# 1. Read in the AWS S3 bucket into a DataFrame.\n",
        "from pyspark import SparkFiles\n",
        "url = \"https://2u-data-curriculum-team.s3.amazonaws.com/dataviz-classroom/v1.2/22-big-data/home_sales_revised.csv\"\n",
        "spark.sparkContext.addFile(url)\n",
        "# Read the CSV file into a DataFrame\n",
        "home_sales_revised_df = spark.read.csv(SparkFiles.get(\"home_sales_revised.csv\"), header=True, inferSchema=True)\n"
      ]
    },
    {
      "cell_type": "code",
      "execution_count": 8,
      "metadata": {
        "id": "RoljcJ7WPpnm",
        "colab": {
          "base_uri": "https://localhost:8080/"
        },
        "outputId": "42e623e5-cd6a-4040-e71a-a4020bade1ed"
      },
      "outputs": [
        {
          "output_type": "stream",
          "name": "stdout",
          "text": [
            "DataFrame[id: string, date: date, date_built: int, price: int, bedrooms: int, bathrooms: int, sqft_living: int, sqft_lot: int, floors: int, waterfront: int, view: int]\n"
          ]
        }
      ],
      "source": [
        "# 2. Create a temporary view of the DataFrame.\n",
        "home_sales_revised_df.createOrReplaceTempView(\"home_sales\")\n",
        "print(home_sales_revised_df)"
      ]
    },
    {
      "cell_type": "code",
      "execution_count": 9,
      "metadata": {
        "colab": {
          "base_uri": "https://localhost:8080/"
        },
        "id": "L6fkwOeOmqvq",
        "outputId": "98bf1392-f5fd-4f8e-c45c-ee1eac78fb1e"
      },
      "outputs": [
        {
          "output_type": "stream",
          "name": "stdout",
          "text": [
            "+----------+-------------+\n",
            "|      date|average_price|\n",
            "+----------+-------------+\n",
            "|2019-01-01|     365088.0|\n",
            "|2019-01-02|    271644.29|\n",
            "|2019-01-03|    381218.86|\n",
            "|2019-01-04|    359586.14|\n",
            "|2019-01-05|    323683.57|\n",
            "|2019-01-06|    301091.13|\n",
            "|2019-01-07|     327474.5|\n",
            "|2019-01-08|    304567.83|\n",
            "|2019-01-09|     243619.0|\n",
            "|2019-01-10|     287844.4|\n",
            "|2019-01-11|    277574.29|\n",
            "|2019-01-12|     218507.0|\n",
            "|2019-01-13|    294603.86|\n",
            "|2019-01-14|    284434.57|\n",
            "|2019-01-15|     254288.5|\n",
            "|2019-01-16|     335106.5|\n",
            "|2019-01-17|    333439.09|\n",
            "|2019-01-18|    297542.56|\n",
            "|2019-01-19|    294484.22|\n",
            "|2019-01-20|    312395.33|\n",
            "+----------+-------------+\n",
            "only showing top 20 rows\n",
            "\n"
          ]
        }
      ],
      "source": [
        "# 3. What is the average price for a four bedroom house sold in each year rounded to two decimal places?\n",
        "result = spark.sql(\"SELECT date, ROUND(AVG(price), 2) AS average_price FROM home_sales WHERE bedrooms = 4 GROUP BY date ORDER BY date\")\n",
        "result.show()"
      ]
    },
    {
      "cell_type": "code",
      "execution_count": 10,
      "metadata": {
        "colab": {
          "base_uri": "https://localhost:8080/"
        },
        "id": "l8p_tUS8h8it",
        "outputId": "6e37be1e-04a2-4212-ee4d-66203326a45a"
      },
      "outputs": [
        {
          "output_type": "stream",
          "name": "stdout",
          "text": [
            "+----------+-------------+\n",
            "|date_built|average_price|\n",
            "+----------+-------------+\n",
            "|      2010|    292859.62|\n",
            "|      2011|    291117.47|\n",
            "|      2012|    293683.19|\n",
            "|      2013|    295962.27|\n",
            "|      2014|    290852.27|\n",
            "|      2015|     288770.3|\n",
            "|      2016|    290555.07|\n",
            "|      2017|    292676.79|\n",
            "+----------+-------------+\n",
            "\n"
          ]
        }
      ],
      "source": [
        "# 4. What is the average price of a home for each year the home was built that have 3 bedrooms and 3 bathrooms rounded to two decimal places?\n",
        "result = spark.sql(\"SELECT date_built, ROUND(AVG(price), 2) AS average_price FROM home_sales WHERE bedrooms = 3 AND bathrooms = 3 GROUP BY date_built ORDER BY date_built\")\n",
        "result.show()"
      ]
    },
    {
      "cell_type": "code",
      "execution_count": 11,
      "metadata": {
        "colab": {
          "base_uri": "https://localhost:8080/"
        },
        "id": "Y-Eytz64liDU",
        "outputId": "60f77aed-7910-4031-bf9c-40d3cdb5e178"
      },
      "outputs": [
        {
          "output_type": "stream",
          "name": "stdout",
          "text": [
            "+----------+-------------+\n",
            "|date_built|average_price|\n",
            "+----------+-------------+\n",
            "|      2010|    285010.22|\n",
            "|      2011|    276553.81|\n",
            "|      2012|    307539.97|\n",
            "|      2013|    303676.79|\n",
            "|      2014|    298264.72|\n",
            "|      2015|    297609.97|\n",
            "|      2016|     293965.1|\n",
            "|      2017|    280317.58|\n",
            "+----------+-------------+\n",
            "\n"
          ]
        }
      ],
      "source": [
        "#  5. What is the average price of a home for each year built that have 3 bedrooms, 3 bathrooms, with two floors,\n",
        "# and are greater than or equal to 2,000 square feet rounded to two decimal places?\n",
        "\n",
        "result = spark.sql(\"SELECT date_built, ROUND(AVG(price), 2) AS average_price FROM home_sales WHERE bedrooms = 3 AND bathrooms = 3 AND floors = 2 AND sqft_living >= 2000 GROUP BY date_built ORDER BY date_built\")\n",
        "result.show()"
      ]
    },
    {
      "cell_type": "code",
      "execution_count": 12,
      "metadata": {
        "colab": {
          "base_uri": "https://localhost:8080/"
        },
        "id": "GUrfgOX1pCRd",
        "outputId": "87d2fef8-e6b8-44b5-8f0b-615886f20f8f"
      },
      "outputs": [
        {
          "output_type": "stream",
          "name": "stdout",
          "text": [
            "+-------------+\n",
            "|average_price|\n",
            "+-------------+\n",
            "|    473796.26|\n",
            "+-------------+\n",
            "\n",
            "--- 0.7543909549713135 seconds ---\n"
          ]
        }
      ],
      "source": [
        "# 6. What is the \"view\" rating for the average price of a home, rounded to two decimal places, where the homes are greater than\n",
        "# or equal to $350,000? Although this is a small dataset, determine the run time for this query.\n",
        "\n",
        "start_time = time.time()\n",
        "\n",
        "result = spark.sql(\"SELECT ROUND(AVG(price), 2) AS average_price FROM home_sales WHERE price >= 350000\")\n",
        "result.show()\n",
        "\n",
        "print(\"--- %s seconds ---\" % (time.time() - start_time))"
      ]
    },
    {
      "cell_type": "code",
      "execution_count": 13,
      "metadata": {
        "id": "KAhk3ZD2tFy8"
      },
      "outputs": [],
      "source": [
        "# 7. Cache the the temporary table home_sales.\n",
        "spark.catalog.cacheTable(\"home_sales\")"
      ]
    },
    {
      "cell_type": "code",
      "execution_count": 14,
      "metadata": {
        "colab": {
          "base_uri": "https://localhost:8080/"
        },
        "id": "4opVhbvxtL-i",
        "outputId": "9e8d7f3e-5d10-48c8-feb3-505f4c226521"
      },
      "outputs": [
        {
          "output_type": "execute_result",
          "data": {
            "text/plain": [
              "True"
            ]
          },
          "metadata": {},
          "execution_count": 14
        }
      ],
      "source": [
        "# 8. Check if the table is cached.\n",
        "spark.catalog.isCached('home_sales')"
      ]
    },
    {
      "cell_type": "code",
      "execution_count": 15,
      "metadata": {
        "colab": {
          "base_uri": "https://localhost:8080/"
        },
        "id": "5GnL46lwTSEk",
        "outputId": "565af868-1b10-4ccf-e5df-36e556767337"
      },
      "outputs": [
        {
          "output_type": "stream",
          "name": "stdout",
          "text": [
            "+----+--------------------+\n",
            "|view|round(avg(price), 2)|\n",
            "+----+--------------------+\n",
            "|  85|          1056336.74|\n",
            "|  65|           736679.93|\n",
            "|  53|            755214.8|\n",
            "|  78|          1080649.37|\n",
            "|  81|          1053472.79|\n",
            "|  76|          1058802.78|\n",
            "|  91|          1137372.73|\n",
            "|  93|          1026006.06|\n",
            "|  52|           733780.26|\n",
            "|  86|          1070444.25|\n",
            "|  94|           1033536.2|\n",
            "|  57|            734340.5|\n",
            "|  54|           798684.82|\n",
            "|  96|          1017815.92|\n",
            "|  92|           970402.55|\n",
            "|  64|           767036.67|\n",
            "|  61|           746877.59|\n",
            "|  88|          1031719.35|\n",
            "|  72|           780914.67|\n",
            "|  59|            791453.0|\n",
            "+----+--------------------+\n",
            "only showing top 20 rows\n",
            "\n",
            "--- 4.710524797439575 seconds ---\n"
          ]
        }
      ],
      "source": [
        "# 9. Using the cached data, run the query that filters out the view ratings with average price\n",
        "#  greater than or equal to $350,000. Determine the runtime and compare it to uncached runtime.\n",
        "\n",
        "start_time = time.time()\n",
        "\n",
        "spark.sql(\"SELECT view, ROUND(AVG(price),2) from home_sales group by view having ROUND(AVG(price),2) >= 350000\").show()\n",
        "\n",
        "print(\"--- %s seconds ---\" % (time.time() - start_time))"
      ]
    },
    {
      "cell_type": "code",
      "execution_count": 16,
      "metadata": {
        "id": "Qm12WN9isHBR"
      },
      "outputs": [],
      "source": [
        "# 10. Partition by the \"date_built\" field on the formatted parquet home sales data\n",
        "output_path = \"partitioned_data/partitioned_data.parquet\"\n",
        "\n",
        "# Write the DataFrame to Parquet format with partitioning\n",
        "home_sales_revised_df.write.partitionBy(\"date_built\").parquet(output_path)"
      ]
    },
    {
      "cell_type": "code",
      "execution_count": 17,
      "metadata": {
        "id": "AZ7BgY61sRqY",
        "colab": {
          "base_uri": "https://localhost:8080/"
        },
        "outputId": "6ca6f9c8-ab73-4baf-fc63-d04fcdee0089"
      },
      "outputs": [
        {
          "output_type": "execute_result",
          "data": {
            "text/plain": [
              "DataFrame[id: string, date: date, price: int, bedrooms: int, bathrooms: int, sqft_living: int, sqft_lot: int, floors: int, waterfront: int, view: int, date_built: int]"
            ]
          },
          "metadata": {},
          "execution_count": 17
        }
      ],
      "source": [
        "# 11. Read the formatted parquet data.\n",
        "# Specify the path to the formatted Parquet data\n",
        "parquet_path = \"partitioned_data/partitioned_data.parquet\"\n",
        "\n",
        "# Read the Parquet data into a DataFrame\n",
        "parquet_data = spark.read.parquet(parquet_path)\n",
        "parquet_data"
      ]
    },
    {
      "cell_type": "code",
      "execution_count": 18,
      "metadata": {
        "id": "J6MJkHfvVcvh"
      },
      "outputs": [],
      "source": [
        "# 12. Create a temporary table for the parquet data.\n",
        "parquet_data.createOrReplaceTempView(\"parquet_table\")"
      ]
    },
    {
      "cell_type": "code",
      "execution_count": 19,
      "metadata": {
        "colab": {
          "base_uri": "https://localhost:8080/"
        },
        "id": "G_Vhb52rU1Sn",
        "outputId": "27bb378d-fdf5-4be3-cdba-2647626bcad3"
      },
      "outputs": [
        {
          "output_type": "stream",
          "name": "stdout",
          "text": [
            "+----+--------------------+\n",
            "|view|round(avg(price), 2)|\n",
            "+----+--------------------+\n",
            "|  85|          1056336.74|\n",
            "|  65|           736679.93|\n",
            "|  53|            755214.8|\n",
            "|  78|          1080649.37|\n",
            "|  81|          1053472.79|\n",
            "|  76|          1058802.78|\n",
            "|  91|          1137372.73|\n",
            "|  93|          1026006.06|\n",
            "|  52|           733780.26|\n",
            "|  86|          1070444.25|\n",
            "|  94|           1033536.2|\n",
            "|  57|            734340.5|\n",
            "|  54|           798684.82|\n",
            "|  96|          1017815.92|\n",
            "|  92|           970402.55|\n",
            "|  64|           767036.67|\n",
            "|  61|           746877.59|\n",
            "|  88|          1031719.35|\n",
            "|  72|           780914.67|\n",
            "|  59|            791453.0|\n",
            "+----+--------------------+\n",
            "only showing top 20 rows\n",
            "\n",
            "+----+--------------------+\n",
            "|view|round(avg(price), 2)|\n",
            "+----+--------------------+\n",
            "|  85|          1056336.74|\n",
            "|  65|           736679.93|\n",
            "|  53|            755214.8|\n",
            "|  78|          1080649.37|\n",
            "|  81|          1053472.79|\n",
            "|  76|          1058802.78|\n",
            "|  91|          1137372.73|\n",
            "|  93|          1026006.06|\n",
            "|  52|           733780.26|\n",
            "|  86|          1070444.25|\n",
            "|  94|           1033536.2|\n",
            "|  57|            734340.5|\n",
            "|  54|           798684.82|\n",
            "|  96|          1017815.92|\n",
            "|  92|           970402.55|\n",
            "|  64|           767036.67|\n",
            "|  61|           746877.59|\n",
            "|  88|          1031719.35|\n",
            "|  72|           780914.67|\n",
            "|  55|           771153.32|\n",
            "+----+--------------------+\n",
            "only showing top 20 rows\n",
            "\n",
            "Parquet Runtime: 0.99 seconds\n",
            "Cached Runtime: 0.49 seconds\n"
          ]
        }
      ],
      "source": [
        "# 13. Run the query that filters out the view ratings with average price of greater than or eqaul to $350,000\n",
        "# with the parquet DataFrame. Round your average to two decimal places.\n",
        "# Determine the runtime and compare it to the cached version.\n",
        "\n",
        "start_time = time.time()\n",
        "spark.sql(\"SELECT view, ROUND(AVG(price),2) from home_sales group by view having ROUND(AVG(price),2) >= 350000\").show()\n",
        "cached_runtime = time.time() - start_time\n",
        "\n",
        "\n",
        "\n",
        "start_time = time.time()\n",
        "spark.sql(\"SELECT view, ROUND(AVG(price),2) from parquet_table group by view having ROUND(AVG(price),2) >= 350000\").show()\n",
        "parquet_runtime = time.time() - start_time\n",
        "\n",
        "print(\"Parquet Runtime: %.2f seconds\" % parquet_runtime)\n",
        "print(\"Cached Runtime: %.2f seconds\" % cached_runtime)"
      ]
    },
    {
      "cell_type": "code",
      "execution_count": 20,
      "metadata": {
        "id": "hjjYzQGjtbq8"
      },
      "outputs": [],
      "source": [
        "# 14. Uncache the home_sales temporary table.\n",
        "spark.catalog.uncacheTable(\"home_sales\")"
      ]
    },
    {
      "cell_type": "code",
      "execution_count": 21,
      "metadata": {
        "colab": {
          "base_uri": "https://localhost:8080/"
        },
        "id": "Sy9NBvO7tlmm",
        "outputId": "b184c18b-17ba-4ad2-e7ee-d8d9689da807"
      },
      "outputs": [
        {
          "output_type": "execute_result",
          "data": {
            "text/plain": [
              "False"
            ]
          },
          "metadata": {},
          "execution_count": 21
        }
      ],
      "source": [
        "# 15. Check if the home_sales is no longer cached\n",
        "spark.catalog.isCached(\"home_sales\")"
      ]
    }
  ],
  "metadata": {
    "colab": {
      "provenance": []
    },
    "kernelspec": {
      "display_name": "Python 3 (ipykernel)",
      "language": "python",
      "name": "python3"
    },
    "language_info": {
      "codemirror_mode": {
        "name": "ipython",
        "version": 3
      },
      "file_extension": ".py",
      "mimetype": "text/x-python",
      "name": "python",
      "nbconvert_exporter": "python",
      "pygments_lexer": "ipython3",
      "version": "3.9.13"
    },
    "nteract": {
      "version": "0.28.0"
    }
  },
  "nbformat": 4,
  "nbformat_minor": 0
}